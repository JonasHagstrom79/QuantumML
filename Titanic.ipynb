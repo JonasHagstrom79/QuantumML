{
 "cells": [
  {
   "cell_type": "code",
   "execution_count": 1,
   "id": "76606d86-1ea9-4f11-96a7-bda8b7342729",
   "metadata": {},
   "outputs": [],
   "source": [
    "# Load the data from the csv-files\n",
    "import pandas as pd\n",
    "train = pd.read_csv('./data/train.csv')\n",
    "test = pd.read_csv('./data/test.csv')"
   ]
  },
  {
   "cell_type": "code",
   "execution_count": 2,
   "id": "fefa4859-9c1f-4978-b9f0-e22f30b52596",
   "metadata": {},
   "outputs": [
    {
     "name": "stdout",
     "output_type": "stream",
     "text": [
      "train has 891 rows and 12 colums\n",
      "test has 418 rows and 11 columns\n"
     ]
    }
   ],
   "source": [
    "# Investigate the shapes of the Titanic dataset\n",
    "print('train has {} rows and {} colums'.format(*train.shape))\n",
    "print('test has {} rows and {} columns'.format(*test.shape)) "
   ]
  },
  {
   "cell_type": "code",
   "execution_count": 3,
   "id": "a05721b2-e94f-4b72-80ad-a5353b772851",
   "metadata": {},
   "outputs": [
    {
     "name": "stdout",
     "output_type": "stream",
     "text": [
      "<class 'pandas.core.frame.DataFrame'>\n",
      "RangeIndex: 891 entries, 0 to 890\n",
      "Data columns (total 12 columns):\n",
      " #   Column       Non-Null Count  Dtype  \n",
      "---  ------       --------------  -----  \n",
      " 0   PassengerId  891 non-null    int64  \n",
      " 1   Survived     891 non-null    int64  \n",
      " 2   Pclass       891 non-null    int64  \n",
      " 3   Name         891 non-null    object \n",
      " 4   Sex          891 non-null    object \n",
      " 5   Age          714 non-null    float64\n",
      " 6   SibSp        891 non-null    int64  \n",
      " 7   Parch        891 non-null    int64  \n",
      " 8   Ticket       891 non-null    object \n",
      " 9   Fare         891 non-null    float64\n",
      " 10  Cabin        204 non-null    object \n",
      " 11  Embarked     889 non-null    object \n",
      "dtypes: float64(2), int64(5), object(5)\n",
      "memory usage: 83.7+ KB\n"
     ]
    }
   ],
   "source": [
    "# Display the structure of the train dataset\n",
    "train.info()"
   ]
  },
  {
   "cell_type": "code",
   "execution_count": 4,
   "id": "9158d61b-76eb-4aae-bc6b-681743c2ce69",
   "metadata": {},
   "outputs": [
    {
     "name": "stdout",
     "output_type": "stream",
     "text": [
      "<class 'pandas.core.frame.DataFrame'>\n",
      "RangeIndex: 418 entries, 0 to 417\n",
      "Data columns (total 11 columns):\n",
      " #   Column       Non-Null Count  Dtype  \n",
      "---  ------       --------------  -----  \n",
      " 0   PassengerId  418 non-null    int64  \n",
      " 1   Pclass       418 non-null    int64  \n",
      " 2   Name         418 non-null    object \n",
      " 3   Sex          418 non-null    object \n",
      " 4   Age          332 non-null    float64\n",
      " 5   SibSp        418 non-null    int64  \n",
      " 6   Parch        418 non-null    int64  \n",
      " 7   Ticket       418 non-null    object \n",
      " 8   Fare         417 non-null    float64\n",
      " 9   Cabin        91 non-null     object \n",
      " 10  Embarked     418 non-null    object \n",
      "dtypes: float64(2), int64(4), object(5)\n",
      "memory usage: 36.1+ KB\n"
     ]
    }
   ],
   "source": [
    "# Display the structure of the test dataset\n",
    "test.info()"
   ]
  },
  {
   "cell_type": "code",
   "execution_count": 5,
   "id": "c4def811-446d-4eac-923a-1bb3ea3777d5",
   "metadata": {},
   "outputs": [
    {
     "data": {
      "text/html": [
       "<div>\n",
       "<style scoped>\n",
       "    .dataframe tbody tr th:only-of-type {\n",
       "        vertical-align: middle;\n",
       "    }\n",
       "\n",
       "    .dataframe tbody tr th {\n",
       "        vertical-align: top;\n",
       "    }\n",
       "\n",
       "    .dataframe thead th {\n",
       "        text-align: right;\n",
       "    }\n",
       "</style>\n",
       "<table border=\"1\" class=\"dataframe\">\n",
       "  <thead>\n",
       "    <tr style=\"text-align: right;\">\n",
       "      <th></th>\n",
       "      <th>PassengerId</th>\n",
       "      <th>Survived</th>\n",
       "      <th>Pclass</th>\n",
       "      <th>Name</th>\n",
       "      <th>Sex</th>\n",
       "      <th>Age</th>\n",
       "      <th>SibSp</th>\n",
       "      <th>Parch</th>\n",
       "      <th>Ticket</th>\n",
       "      <th>Fare</th>\n",
       "      <th>Cabin</th>\n",
       "      <th>Embarked</th>\n",
       "    </tr>\n",
       "  </thead>\n",
       "  <tbody>\n",
       "    <tr>\n",
       "      <th>0</th>\n",
       "      <td>1</td>\n",
       "      <td>0</td>\n",
       "      <td>3</td>\n",
       "      <td>Braund, Mr. Owen Harris</td>\n",
       "      <td>male</td>\n",
       "      <td>22.0</td>\n",
       "      <td>1</td>\n",
       "      <td>0</td>\n",
       "      <td>A/5 21171</td>\n",
       "      <td>7.2500</td>\n",
       "      <td>NaN</td>\n",
       "      <td>S</td>\n",
       "    </tr>\n",
       "    <tr>\n",
       "      <th>1</th>\n",
       "      <td>2</td>\n",
       "      <td>1</td>\n",
       "      <td>1</td>\n",
       "      <td>Cumings, Mrs. John Bradley (Florence Briggs Th...</td>\n",
       "      <td>female</td>\n",
       "      <td>38.0</td>\n",
       "      <td>1</td>\n",
       "      <td>0</td>\n",
       "      <td>PC 17599</td>\n",
       "      <td>71.2833</td>\n",
       "      <td>C85</td>\n",
       "      <td>C</td>\n",
       "    </tr>\n",
       "    <tr>\n",
       "      <th>2</th>\n",
       "      <td>3</td>\n",
       "      <td>1</td>\n",
       "      <td>3</td>\n",
       "      <td>Heikkinen, Miss. Laina</td>\n",
       "      <td>female</td>\n",
       "      <td>26.0</td>\n",
       "      <td>0</td>\n",
       "      <td>0</td>\n",
       "      <td>STON/O2. 3101282</td>\n",
       "      <td>7.9250</td>\n",
       "      <td>NaN</td>\n",
       "      <td>S</td>\n",
       "    </tr>\n",
       "    <tr>\n",
       "      <th>3</th>\n",
       "      <td>4</td>\n",
       "      <td>1</td>\n",
       "      <td>1</td>\n",
       "      <td>Futrelle, Mrs. Jacques Heath (Lily May Peel)</td>\n",
       "      <td>female</td>\n",
       "      <td>35.0</td>\n",
       "      <td>1</td>\n",
       "      <td>0</td>\n",
       "      <td>113803</td>\n",
       "      <td>53.1000</td>\n",
       "      <td>C123</td>\n",
       "      <td>S</td>\n",
       "    </tr>\n",
       "    <tr>\n",
       "      <th>4</th>\n",
       "      <td>5</td>\n",
       "      <td>0</td>\n",
       "      <td>3</td>\n",
       "      <td>Allen, Mr. William Henry</td>\n",
       "      <td>male</td>\n",
       "      <td>35.0</td>\n",
       "      <td>0</td>\n",
       "      <td>0</td>\n",
       "      <td>373450</td>\n",
       "      <td>8.0500</td>\n",
       "      <td>NaN</td>\n",
       "      <td>S</td>\n",
       "    </tr>\n",
       "  </tbody>\n",
       "</table>\n",
       "</div>"
      ],
      "text/plain": [
       "   PassengerId  Survived  Pclass  \\\n",
       "0            1         0       3   \n",
       "1            2         1       1   \n",
       "2            3         1       3   \n",
       "3            4         1       1   \n",
       "4            5         0       3   \n",
       "\n",
       "                                                Name     Sex   Age  SibSp  \\\n",
       "0                            Braund, Mr. Owen Harris    male  22.0      1   \n",
       "1  Cumings, Mrs. John Bradley (Florence Briggs Th...  female  38.0      1   \n",
       "2                             Heikkinen, Miss. Laina  female  26.0      0   \n",
       "3       Futrelle, Mrs. Jacques Heath (Lily May Peel)  female  35.0      1   \n",
       "4                           Allen, Mr. William Henry    male  35.0      0   \n",
       "\n",
       "   Parch            Ticket     Fare Cabin Embarked  \n",
       "0      0         A/5 21171   7.2500   NaN        S  \n",
       "1      0          PC 17599  71.2833   C85        C  \n",
       "2      0  STON/O2. 3101282   7.9250   NaN        S  \n",
       "3      0            113803  53.1000  C123        S  \n",
       "4      0            373450   8.0500   NaN        S  "
      ]
     },
     "execution_count": 5,
     "metadata": {},
     "output_type": "execute_result"
    }
   ],
   "source": [
    "# Display the column heads and the five first rows\n",
    "train.head()"
   ]
  },
  {
   "cell_type": "code",
   "execution_count": 6,
   "id": "f5a14453-ecdc-45af-bc12-472bbd62bbc7",
   "metadata": {},
   "outputs": [],
   "source": [
    "# Remove missing values\n",
    "train = train.dropna(subset=[\"Embarked\"])"
   ]
  },
  {
   "cell_type": "code",
   "execution_count": 7,
   "id": "999f724e-735e-44e6-abc5-e4aa78971830",
   "metadata": {},
   "outputs": [],
   "source": [
    "# Drop Cabin\n",
    "train = train.drop(\"Cabin\", axis=1)"
   ]
  },
  {
   "cell_type": "code",
   "execution_count": 8,
   "id": "ac56bcc4-5a5e-4dea-a5b9-67632883e0ed",
   "metadata": {},
   "outputs": [],
   "source": [
    "# Fix age where it's missing by using mean\n",
    "mean = train[\"Age\"].mean()\n",
    "train[\"Age\"] = train[\"Age\"].fillna(mean)"
   ]
  },
  {
   "cell_type": "code",
   "execution_count": 9,
   "id": "9cd82a24-df05-466a-a036-0b52d957b601",
   "metadata": {},
   "outputs": [
    {
     "name": "stdout",
     "output_type": "stream",
     "text": [
      "<class 'pandas.core.frame.DataFrame'>\n",
      "Index: 889 entries, 0 to 890\n",
      "Data columns (total 11 columns):\n",
      " #   Column       Non-Null Count  Dtype  \n",
      "---  ------       --------------  -----  \n",
      " 0   PassengerId  889 non-null    int64  \n",
      " 1   Survived     889 non-null    int64  \n",
      " 2   Pclass       889 non-null    int64  \n",
      " 3   Name         889 non-null    object \n",
      " 4   Sex          889 non-null    object \n",
      " 5   Age          889 non-null    float64\n",
      " 6   SibSp        889 non-null    int64  \n",
      " 7   Parch        889 non-null    int64  \n",
      " 8   Ticket       889 non-null    object \n",
      " 9   Fare         889 non-null    float64\n",
      " 10  Embarked     889 non-null    object \n",
      "dtypes: float64(2), int64(5), object(4)\n",
      "memory usage: 83.3+ KB\n"
     ]
    }
   ],
   "source": [
    "# Display the structure of the train dataset after above fixes\n",
    "train.info()"
   ]
  },
  {
   "cell_type": "code",
   "execution_count": 11,
   "id": "c714283d-21cf-4f64-b7ea-a3dfb6b6db8b",
   "metadata": {},
   "outputs": [
    {
     "data": {
      "text/html": [
       "<div>\n",
       "<style scoped>\n",
       "    .dataframe tbody tr th:only-of-type {\n",
       "        vertical-align: middle;\n",
       "    }\n",
       "\n",
       "    .dataframe tbody tr th {\n",
       "        vertical-align: top;\n",
       "    }\n",
       "\n",
       "    .dataframe thead th {\n",
       "        text-align: right;\n",
       "    }\n",
       "</style>\n",
       "<table border=\"1\" class=\"dataframe\">\n",
       "  <thead>\n",
       "    <tr style=\"text-align: right;\">\n",
       "      <th></th>\n",
       "      <th>PassengerId</th>\n",
       "      <th>Survived</th>\n",
       "      <th>Pclass</th>\n",
       "      <th>Name</th>\n",
       "      <th>Sex</th>\n",
       "      <th>Age</th>\n",
       "      <th>SibSp</th>\n",
       "      <th>Parch</th>\n",
       "      <th>Ticket</th>\n",
       "      <th>Fare</th>\n",
       "      <th>Embarked</th>\n",
       "    </tr>\n",
       "  </thead>\n",
       "  <tbody>\n",
       "    <tr>\n",
       "      <th>0</th>\n",
       "      <td>1</td>\n",
       "      <td>0</td>\n",
       "      <td>3</td>\n",
       "      <td>Braund, Mr. Owen Harris</td>\n",
       "      <td>1</td>\n",
       "      <td>22.0</td>\n",
       "      <td>1</td>\n",
       "      <td>0</td>\n",
       "      <td>A/5 21171</td>\n",
       "      <td>7.2500</td>\n",
       "      <td>2</td>\n",
       "    </tr>\n",
       "    <tr>\n",
       "      <th>1</th>\n",
       "      <td>2</td>\n",
       "      <td>1</td>\n",
       "      <td>1</td>\n",
       "      <td>Cumings, Mrs. John Bradley (Florence Briggs Th...</td>\n",
       "      <td>0</td>\n",
       "      <td>38.0</td>\n",
       "      <td>1</td>\n",
       "      <td>0</td>\n",
       "      <td>PC 17599</td>\n",
       "      <td>71.2833</td>\n",
       "      <td>0</td>\n",
       "    </tr>\n",
       "    <tr>\n",
       "      <th>2</th>\n",
       "      <td>3</td>\n",
       "      <td>1</td>\n",
       "      <td>3</td>\n",
       "      <td>Heikkinen, Miss. Laina</td>\n",
       "      <td>0</td>\n",
       "      <td>26.0</td>\n",
       "      <td>0</td>\n",
       "      <td>0</td>\n",
       "      <td>STON/O2. 3101282</td>\n",
       "      <td>7.9250</td>\n",
       "      <td>2</td>\n",
       "    </tr>\n",
       "    <tr>\n",
       "      <th>3</th>\n",
       "      <td>4</td>\n",
       "      <td>1</td>\n",
       "      <td>1</td>\n",
       "      <td>Futrelle, Mrs. Jacques Heath (Lily May Peel)</td>\n",
       "      <td>0</td>\n",
       "      <td>35.0</td>\n",
       "      <td>1</td>\n",
       "      <td>0</td>\n",
       "      <td>113803</td>\n",
       "      <td>53.1000</td>\n",
       "      <td>2</td>\n",
       "    </tr>\n",
       "    <tr>\n",
       "      <th>4</th>\n",
       "      <td>5</td>\n",
       "      <td>0</td>\n",
       "      <td>3</td>\n",
       "      <td>Allen, Mr. William Henry</td>\n",
       "      <td>1</td>\n",
       "      <td>35.0</td>\n",
       "      <td>0</td>\n",
       "      <td>0</td>\n",
       "      <td>373450</td>\n",
       "      <td>8.0500</td>\n",
       "      <td>2</td>\n",
       "    </tr>\n",
       "  </tbody>\n",
       "</table>\n",
       "</div>"
      ],
      "text/plain": [
       "   PassengerId  Survived  Pclass  \\\n",
       "0            1         0       3   \n",
       "1            2         1       1   \n",
       "2            3         1       3   \n",
       "3            4         1       1   \n",
       "4            5         0       3   \n",
       "\n",
       "                                                Name  Sex   Age  SibSp  Parch  \\\n",
       "0                            Braund, Mr. Owen Harris    1  22.0      1      0   \n",
       "1  Cumings, Mrs. John Bradley (Florence Briggs Th...    0  38.0      1      0   \n",
       "2                             Heikkinen, Miss. Laina    0  26.0      0      0   \n",
       "3       Futrelle, Mrs. Jacques Heath (Lily May Peel)    0  35.0      1      0   \n",
       "4                           Allen, Mr. William Henry    1  35.0      0      0   \n",
       "\n",
       "             Ticket     Fare  Embarked  \n",
       "0         A/5 21171   7.2500         2  \n",
       "1          PC 17599  71.2833         0  \n",
       "2  STON/O2. 3101282   7.9250         2  \n",
       "3            113803  53.1000         2  \n",
       "4            373450   8.0500         2  "
      ]
     },
     "execution_count": 11,
     "metadata": {},
     "output_type": "execute_result"
    }
   ],
   "source": [
    "# Prepare and clean the data, transform text into numbers\n",
    "from sklearn.preprocessing import LabelEncoder\n",
    "le = LabelEncoder()\n",
    "\n",
    "for col in ['Sex', 'Embarked']:\n",
    "    le.fit(train[col])\n",
    "    train[col] = le.transform(train[col])\n",
    "\n",
    "train.head()"
   ]
  },
  {
   "cell_type": "code",
   "execution_count": 12,
   "id": "a7e90151-b4d1-4024-8f51-214223bfbe57",
   "metadata": {},
   "outputs": [],
   "source": [
    "# Remove missing values\n",
    "train = train.dropna(subset=[\"Embarked\"])"
   ]
  },
  {
   "cell_type": "code",
   "execution_count": 13,
   "id": "69c31c5e-02bd-4a20-9eca-34586bc7e5ca",
   "metadata": {},
   "outputs": [
    {
     "ename": "KeyError",
     "evalue": "\"['Cabin'] not found in axis\"",
     "output_type": "error",
     "traceback": [
      "\u001b[0;31m---------------------------------------------------------------------------\u001b[0m",
      "\u001b[0;31mKeyError\u001b[0m                                  Traceback (most recent call last)",
      "Cell \u001b[0;32mIn[13], line 2\u001b[0m\n\u001b[1;32m      1\u001b[0m \u001b[38;5;66;03m# Drop Cabin\u001b[39;00m\n\u001b[0;32m----> 2\u001b[0m train \u001b[38;5;241m=\u001b[39m \u001b[43mtrain\u001b[49m\u001b[38;5;241;43m.\u001b[39;49m\u001b[43mdrop\u001b[49m\u001b[43m(\u001b[49m\u001b[38;5;124;43m\"\u001b[39;49m\u001b[38;5;124;43mCabin\u001b[39;49m\u001b[38;5;124;43m\"\u001b[39;49m\u001b[43m,\u001b[49m\u001b[43m \u001b[49m\u001b[43maxis\u001b[49m\u001b[38;5;241;43m=\u001b[39;49m\u001b[38;5;241;43m1\u001b[39;49m\u001b[43m)\u001b[49m\n",
      "File \u001b[0;32m/tmp/Python38/Python-3.8.5/QuantumML/lib/python3.12/site-packages/pandas/core/frame.py:5581\u001b[0m, in \u001b[0;36mDataFrame.drop\u001b[0;34m(self, labels, axis, index, columns, level, inplace, errors)\u001b[0m\n\u001b[1;32m   5433\u001b[0m \u001b[38;5;28;01mdef\u001b[39;00m \u001b[38;5;21mdrop\u001b[39m(\n\u001b[1;32m   5434\u001b[0m     \u001b[38;5;28mself\u001b[39m,\n\u001b[1;32m   5435\u001b[0m     labels: IndexLabel \u001b[38;5;241m|\u001b[39m \u001b[38;5;28;01mNone\u001b[39;00m \u001b[38;5;241m=\u001b[39m \u001b[38;5;28;01mNone\u001b[39;00m,\n\u001b[0;32m   (...)\u001b[0m\n\u001b[1;32m   5442\u001b[0m     errors: IgnoreRaise \u001b[38;5;241m=\u001b[39m \u001b[38;5;124m\"\u001b[39m\u001b[38;5;124mraise\u001b[39m\u001b[38;5;124m\"\u001b[39m,\n\u001b[1;32m   5443\u001b[0m ) \u001b[38;5;241m-\u001b[39m\u001b[38;5;241m>\u001b[39m DataFrame \u001b[38;5;241m|\u001b[39m \u001b[38;5;28;01mNone\u001b[39;00m:\n\u001b[1;32m   5444\u001b[0m \u001b[38;5;250m    \u001b[39m\u001b[38;5;124;03m\"\"\"\u001b[39;00m\n\u001b[1;32m   5445\u001b[0m \u001b[38;5;124;03m    Drop specified labels from rows or columns.\u001b[39;00m\n\u001b[1;32m   5446\u001b[0m \n\u001b[0;32m   (...)\u001b[0m\n\u001b[1;32m   5579\u001b[0m \u001b[38;5;124;03m            weight  1.0     0.8\u001b[39;00m\n\u001b[1;32m   5580\u001b[0m \u001b[38;5;124;03m    \"\"\"\u001b[39;00m\n\u001b[0;32m-> 5581\u001b[0m     \u001b[38;5;28;01mreturn\u001b[39;00m \u001b[38;5;28;43msuper\u001b[39;49m\u001b[43m(\u001b[49m\u001b[43m)\u001b[49m\u001b[38;5;241;43m.\u001b[39;49m\u001b[43mdrop\u001b[49m\u001b[43m(\u001b[49m\n\u001b[1;32m   5582\u001b[0m \u001b[43m        \u001b[49m\u001b[43mlabels\u001b[49m\u001b[38;5;241;43m=\u001b[39;49m\u001b[43mlabels\u001b[49m\u001b[43m,\u001b[49m\n\u001b[1;32m   5583\u001b[0m \u001b[43m        \u001b[49m\u001b[43maxis\u001b[49m\u001b[38;5;241;43m=\u001b[39;49m\u001b[43maxis\u001b[49m\u001b[43m,\u001b[49m\n\u001b[1;32m   5584\u001b[0m \u001b[43m        \u001b[49m\u001b[43mindex\u001b[49m\u001b[38;5;241;43m=\u001b[39;49m\u001b[43mindex\u001b[49m\u001b[43m,\u001b[49m\n\u001b[1;32m   5585\u001b[0m \u001b[43m        \u001b[49m\u001b[43mcolumns\u001b[49m\u001b[38;5;241;43m=\u001b[39;49m\u001b[43mcolumns\u001b[49m\u001b[43m,\u001b[49m\n\u001b[1;32m   5586\u001b[0m \u001b[43m        \u001b[49m\u001b[43mlevel\u001b[49m\u001b[38;5;241;43m=\u001b[39;49m\u001b[43mlevel\u001b[49m\u001b[43m,\u001b[49m\n\u001b[1;32m   5587\u001b[0m \u001b[43m        \u001b[49m\u001b[43minplace\u001b[49m\u001b[38;5;241;43m=\u001b[39;49m\u001b[43minplace\u001b[49m\u001b[43m,\u001b[49m\n\u001b[1;32m   5588\u001b[0m \u001b[43m        \u001b[49m\u001b[43merrors\u001b[49m\u001b[38;5;241;43m=\u001b[39;49m\u001b[43merrors\u001b[49m\u001b[43m,\u001b[49m\n\u001b[1;32m   5589\u001b[0m \u001b[43m    \u001b[49m\u001b[43m)\u001b[49m\n",
      "File \u001b[0;32m/tmp/Python38/Python-3.8.5/QuantumML/lib/python3.12/site-packages/pandas/core/generic.py:4788\u001b[0m, in \u001b[0;36mNDFrame.drop\u001b[0;34m(self, labels, axis, index, columns, level, inplace, errors)\u001b[0m\n\u001b[1;32m   4786\u001b[0m \u001b[38;5;28;01mfor\u001b[39;00m axis, labels \u001b[38;5;129;01min\u001b[39;00m axes\u001b[38;5;241m.\u001b[39mitems():\n\u001b[1;32m   4787\u001b[0m     \u001b[38;5;28;01mif\u001b[39;00m labels \u001b[38;5;129;01mis\u001b[39;00m \u001b[38;5;129;01mnot\u001b[39;00m \u001b[38;5;28;01mNone\u001b[39;00m:\n\u001b[0;32m-> 4788\u001b[0m         obj \u001b[38;5;241m=\u001b[39m \u001b[43mobj\u001b[49m\u001b[38;5;241;43m.\u001b[39;49m\u001b[43m_drop_axis\u001b[49m\u001b[43m(\u001b[49m\u001b[43mlabels\u001b[49m\u001b[43m,\u001b[49m\u001b[43m \u001b[49m\u001b[43maxis\u001b[49m\u001b[43m,\u001b[49m\u001b[43m \u001b[49m\u001b[43mlevel\u001b[49m\u001b[38;5;241;43m=\u001b[39;49m\u001b[43mlevel\u001b[49m\u001b[43m,\u001b[49m\u001b[43m \u001b[49m\u001b[43merrors\u001b[49m\u001b[38;5;241;43m=\u001b[39;49m\u001b[43merrors\u001b[49m\u001b[43m)\u001b[49m\n\u001b[1;32m   4790\u001b[0m \u001b[38;5;28;01mif\u001b[39;00m inplace:\n\u001b[1;32m   4791\u001b[0m     \u001b[38;5;28mself\u001b[39m\u001b[38;5;241m.\u001b[39m_update_inplace(obj)\n",
      "File \u001b[0;32m/tmp/Python38/Python-3.8.5/QuantumML/lib/python3.12/site-packages/pandas/core/generic.py:4830\u001b[0m, in \u001b[0;36mNDFrame._drop_axis\u001b[0;34m(self, labels, axis, level, errors, only_slice)\u001b[0m\n\u001b[1;32m   4828\u001b[0m         new_axis \u001b[38;5;241m=\u001b[39m axis\u001b[38;5;241m.\u001b[39mdrop(labels, level\u001b[38;5;241m=\u001b[39mlevel, errors\u001b[38;5;241m=\u001b[39merrors)\n\u001b[1;32m   4829\u001b[0m     \u001b[38;5;28;01melse\u001b[39;00m:\n\u001b[0;32m-> 4830\u001b[0m         new_axis \u001b[38;5;241m=\u001b[39m \u001b[43maxis\u001b[49m\u001b[38;5;241;43m.\u001b[39;49m\u001b[43mdrop\u001b[49m\u001b[43m(\u001b[49m\u001b[43mlabels\u001b[49m\u001b[43m,\u001b[49m\u001b[43m \u001b[49m\u001b[43merrors\u001b[49m\u001b[38;5;241;43m=\u001b[39;49m\u001b[43merrors\u001b[49m\u001b[43m)\u001b[49m\n\u001b[1;32m   4831\u001b[0m     indexer \u001b[38;5;241m=\u001b[39m axis\u001b[38;5;241m.\u001b[39mget_indexer(new_axis)\n\u001b[1;32m   4833\u001b[0m \u001b[38;5;66;03m# Case for non-unique axis\u001b[39;00m\n\u001b[1;32m   4834\u001b[0m \u001b[38;5;28;01melse\u001b[39;00m:\n",
      "File \u001b[0;32m/tmp/Python38/Python-3.8.5/QuantumML/lib/python3.12/site-packages/pandas/core/indexes/base.py:7070\u001b[0m, in \u001b[0;36mIndex.drop\u001b[0;34m(self, labels, errors)\u001b[0m\n\u001b[1;32m   7068\u001b[0m \u001b[38;5;28;01mif\u001b[39;00m mask\u001b[38;5;241m.\u001b[39many():\n\u001b[1;32m   7069\u001b[0m     \u001b[38;5;28;01mif\u001b[39;00m errors \u001b[38;5;241m!=\u001b[39m \u001b[38;5;124m\"\u001b[39m\u001b[38;5;124mignore\u001b[39m\u001b[38;5;124m\"\u001b[39m:\n\u001b[0;32m-> 7070\u001b[0m         \u001b[38;5;28;01mraise\u001b[39;00m \u001b[38;5;167;01mKeyError\u001b[39;00m(\u001b[38;5;124mf\u001b[39m\u001b[38;5;124m\"\u001b[39m\u001b[38;5;132;01m{\u001b[39;00mlabels[mask]\u001b[38;5;241m.\u001b[39mtolist()\u001b[38;5;132;01m}\u001b[39;00m\u001b[38;5;124m not found in axis\u001b[39m\u001b[38;5;124m\"\u001b[39m)\n\u001b[1;32m   7071\u001b[0m     indexer \u001b[38;5;241m=\u001b[39m indexer[\u001b[38;5;241m~\u001b[39mmask]\n\u001b[1;32m   7072\u001b[0m \u001b[38;5;28;01mreturn\u001b[39;00m \u001b[38;5;28mself\u001b[39m\u001b[38;5;241m.\u001b[39mdelete(indexer)\n",
      "\u001b[0;31mKeyError\u001b[0m: \"['Cabin'] not found in axis\""
     ]
    }
   ],
   "source": [
    "# Drop Cabin\n",
    "train = train.drop(\"Cabin\", axis=1)"
   ]
  },
  {
   "cell_type": "code",
   "execution_count": 14,
   "id": "9a3dcf53-82cb-41a8-8202-18aaaed0d9a7",
   "metadata": {},
   "outputs": [],
   "source": [
    "# Fix age where it's missing by using mean\n",
    "mean = train[\"Age\"].mean()\n",
    "train[\"Age\"] = train[\"Age\"].fillna(mean)\n"
   ]
  },
  {
   "cell_type": "code",
   "execution_count": 15,
   "id": "82c88f96-7409-46e0-904d-0de2dc1103af",
   "metadata": {},
   "outputs": [
    {
     "name": "stdout",
     "output_type": "stream",
     "text": [
      "<class 'pandas.core.frame.DataFrame'>\n",
      "Index: 889 entries, 0 to 890\n",
      "Data columns (total 11 columns):\n",
      " #   Column       Non-Null Count  Dtype  \n",
      "---  ------       --------------  -----  \n",
      " 0   PassengerId  889 non-null    int64  \n",
      " 1   Survived     889 non-null    int64  \n",
      " 2   Pclass       889 non-null    int64  \n",
      " 3   Name         889 non-null    object \n",
      " 4   Sex          889 non-null    int64  \n",
      " 5   Age          889 non-null    float64\n",
      " 6   SibSp        889 non-null    int64  \n",
      " 7   Parch        889 non-null    int64  \n",
      " 8   Ticket       889 non-null    object \n",
      " 9   Fare         889 non-null    float64\n",
      " 10  Embarked     889 non-null    int64  \n",
      "dtypes: float64(2), int64(7), object(2)\n",
      "memory usage: 83.3+ KB\n"
     ]
    }
   ],
   "source": [
    "# Display the structure of the train dataset after above fixes\n",
    "train.info()"
   ]
  },
  {
   "cell_type": "code",
   "execution_count": 16,
   "id": "f605ad10-2b52-44ff-865b-f698cbffaf98",
   "metadata": {},
   "outputs": [
    {
     "name": "stdout",
     "output_type": "stream",
     "text": [
      "There are 889 different (uniqe) PassengerIds in the data\n",
      "There are 889 different (uniqe) names in the data\n",
      "There are 680 different (uniqe) ticket numbers in the data\n"
     ]
    }
   ],
   "source": [
    "# Display all unique values in columns\n",
    "print('There are {} different (uniqe) PassengerIds in the data'.format(train[\"PassengerId\"].nunique()))\n",
    "print('There are {} different (uniqe) names in the data'.format(train[\"Name\"].nunique()))\n",
    "print('There are {} different (uniqe) ticket numbers in the data'.format(train[\"Ticket\"].nunique()))   "
   ]
  },
  {
   "cell_type": "code",
   "execution_count": 17,
   "id": "749bb661-a6b1-4bbd-8511-646e7d0ce650",
   "metadata": {},
   "outputs": [],
   "source": [
    "# Cleaning the data, remove identifying data\n",
    "train = train.drop(\"PassengerId\", axis=1)\n",
    "train = train.drop(\"Name\", axis=1)\n",
    "train = train.drop(\"Ticket\", axis=1)"
   ]
  },
  {
   "cell_type": "code",
   "execution_count": 18,
   "id": "938093f2-640a-4857-846a-f569921c3e91",
   "metadata": {},
   "outputs": [
    {
     "name": "stdout",
     "output_type": "stream",
     "text": [
      "<class 'pandas.core.frame.DataFrame'>\n",
      "Index: 889 entries, 0 to 890\n",
      "Data columns (total 8 columns):\n",
      " #   Column    Non-Null Count  Dtype  \n",
      "---  ------    --------------  -----  \n",
      " 0   Survived  889 non-null    int64  \n",
      " 1   Pclass    889 non-null    int64  \n",
      " 2   Sex       889 non-null    int64  \n",
      " 3   Age       889 non-null    float64\n",
      " 4   SibSp     889 non-null    int64  \n",
      " 5   Parch     889 non-null    int64  \n",
      " 6   Fare      889 non-null    float64\n",
      " 7   Embarked  889 non-null    int64  \n",
      "dtypes: float64(2), int64(6)\n",
      "memory usage: 62.5 KB\n"
     ]
    }
   ],
   "source": [
    "# Display the data\n",
    "train.info()"
   ]
  },
  {
   "cell_type": "code",
   "execution_count": 19,
   "id": "b813e43e-ddbe-4988-996c-b3e7b5eb0242",
   "metadata": {},
   "outputs": [
    {
     "data": {
      "text/html": [
       "<div>\n",
       "<style scoped>\n",
       "    .dataframe tbody tr th:only-of-type {\n",
       "        vertical-align: middle;\n",
       "    }\n",
       "\n",
       "    .dataframe tbody tr th {\n",
       "        vertical-align: top;\n",
       "    }\n",
       "\n",
       "    .dataframe thead th {\n",
       "        text-align: right;\n",
       "    }\n",
       "</style>\n",
       "<table border=\"1\" class=\"dataframe\">\n",
       "  <thead>\n",
       "    <tr style=\"text-align: right;\">\n",
       "      <th></th>\n",
       "      <th>Survived</th>\n",
       "      <th>Pclass</th>\n",
       "      <th>Sex</th>\n",
       "      <th>Age</th>\n",
       "      <th>SibSp</th>\n",
       "      <th>Parch</th>\n",
       "      <th>Fare</th>\n",
       "      <th>Embarked</th>\n",
       "    </tr>\n",
       "  </thead>\n",
       "  <tbody>\n",
       "    <tr>\n",
       "      <th>0</th>\n",
       "      <td>0</td>\n",
       "      <td>3</td>\n",
       "      <td>1</td>\n",
       "      <td>22.0</td>\n",
       "      <td>1</td>\n",
       "      <td>0</td>\n",
       "      <td>7.2500</td>\n",
       "      <td>2</td>\n",
       "    </tr>\n",
       "    <tr>\n",
       "      <th>1</th>\n",
       "      <td>1</td>\n",
       "      <td>1</td>\n",
       "      <td>0</td>\n",
       "      <td>38.0</td>\n",
       "      <td>1</td>\n",
       "      <td>0</td>\n",
       "      <td>71.2833</td>\n",
       "      <td>0</td>\n",
       "    </tr>\n",
       "    <tr>\n",
       "      <th>2</th>\n",
       "      <td>1</td>\n",
       "      <td>3</td>\n",
       "      <td>0</td>\n",
       "      <td>26.0</td>\n",
       "      <td>0</td>\n",
       "      <td>0</td>\n",
       "      <td>7.9250</td>\n",
       "      <td>2</td>\n",
       "    </tr>\n",
       "    <tr>\n",
       "      <th>3</th>\n",
       "      <td>1</td>\n",
       "      <td>1</td>\n",
       "      <td>0</td>\n",
       "      <td>35.0</td>\n",
       "      <td>1</td>\n",
       "      <td>0</td>\n",
       "      <td>53.1000</td>\n",
       "      <td>2</td>\n",
       "    </tr>\n",
       "    <tr>\n",
       "      <th>4</th>\n",
       "      <td>0</td>\n",
       "      <td>3</td>\n",
       "      <td>1</td>\n",
       "      <td>35.0</td>\n",
       "      <td>0</td>\n",
       "      <td>0</td>\n",
       "      <td>8.0500</td>\n",
       "      <td>2</td>\n",
       "    </tr>\n",
       "  </tbody>\n",
       "</table>\n",
       "</div>"
      ],
      "text/plain": [
       "   Survived  Pclass  Sex   Age  SibSp  Parch     Fare  Embarked\n",
       "0         0       3    1  22.0      1      0   7.2500         2\n",
       "1         1       1    0  38.0      1      0  71.2833         0\n",
       "2         1       3    0  26.0      0      0   7.9250         2\n",
       "3         1       1    0  35.0      1      0  53.1000         2\n",
       "4         0       3    1  35.0      0      0   8.0500         2"
      ]
     },
     "execution_count": 19,
     "metadata": {},
     "output_type": "execute_result"
    }
   ],
   "source": [
    "# Prepare and clean the data, transform text into numbers\n",
    "from sklearn.preprocessing import LabelEncoder\n",
    "le = LabelEncoder()\n",
    "\n",
    "for col in ['Sex', 'Embarked']:\n",
    "    le.fit(train[col])\n",
    "    train[col] = le.transform(train[col])\n",
    "\n",
    "train.head()"
   ]
  },
  {
   "cell_type": "code",
   "execution_count": 20,
   "id": "265264ed-2feb-47a8-a31b-718bb519fe45",
   "metadata": {},
   "outputs": [
    {
     "name": "stdout",
     "output_type": "stream",
     "text": [
      "The maximum age is 80.0\n",
      "The maximum fare is 512.3292\n"
     ]
    }
   ],
   "source": [
    "# Listing the maximum values\n",
    "print('The maximum age is {}'.format(train[\"Age\"].max()))\n",
    "print('The maximum fare is {}'.format(train[\"Fare\"].max()))    "
   ]
  },
  {
   "cell_type": "code",
   "execution_count": 21,
   "id": "ea9c1c6b-bdba-4146-b98b-32489e6612f4",
   "metadata": {},
   "outputs": [
    {
     "name": "stdout",
     "output_type": "stream",
     "text": [
      "The minimum value is 0.0 and the maximum value is 1.0\n"
     ]
    }
   ],
   "source": [
    "# Normalize the data to a number between 0.0 and 1.0\n",
    "from sklearn.preprocessing import MinMaxScaler\n",
    "\n",
    "scaler = MinMaxScaler()\n",
    "scaler.fit(train)\n",
    "train = scaler.transform(train)\n",
    "\n",
    "print('The minimum value is {} and the maximum value is {}'.format(train.min(), train.max()))"
   ]
  },
  {
   "cell_type": "code",
   "execution_count": 22,
   "id": "18dc90db-04b1-4568-858c-024379b3dc38",
   "metadata": {},
   "outputs": [
    {
     "name": "stdout",
     "output_type": "stream",
     "text": [
      "We have 711 training and 178 testing rows\n",
      "There are 7 input columns\n"
     ]
    }
   ],
   "source": [
    "# Separating input from labels and training from testing sets\n",
    "from sklearn.model_selection import train_test_split\n",
    "\n",
    "input_data = train[:, 1:8]\n",
    "labels = train[:, 0]\n",
    "\n",
    "train_input, test_input, train_labels, test_labels = train_test_split(\n",
    "    input_data, labels, test_size = 0.2)\n",
    "\n",
    "print('We have {} training and {} testing rows'.format(train_input.shape[0], test_input.shape[0]))\n",
    "print('There are {} input columns'.format(train_input.shape[1]))"
   ]
  },
  {
   "cell_type": "code",
   "execution_count": 23,
   "id": "85478b33-23c3-4b67-9e70-5b87fd5f4425",
   "metadata": {},
   "outputs": [],
   "source": [
    "# Save the data to the filesystem\n",
    "import numpy as np\n",
    "\n",
    "with open('data/train.npy', 'wb') as f:\n",
    "    np.save(f, train_input)\n",
    "    np.save(f, train_labels)\n",
    "\n",
    "with open('data/test.npy', 'wb') as f:\n",
    "    np.save(f, test_input)\n",
    "    np.save(f, test_labels)"
   ]
  },
  {
   "cell_type": "code",
   "execution_count": 24,
   "id": "7a1728df-d24e-4dca-b265-9d37792ffe67",
   "metadata": {},
   "outputs": [],
   "source": [
    "# Baseline model, random classifier\n",
    "import random\n",
    "random.seed(a=None, version=2)\n",
    "\n",
    "def classify(passenger):\n",
    "    return random.randint(0, 1)"
   ]
  },
  {
   "cell_type": "code",
   "execution_count": 25,
   "id": "d18756b3-379c-4d4c-b890-e62f4b0eef20",
   "metadata": {},
   "outputs": [],
   "source": [
    "# Runs classifier\n",
    "def run(f_classify, x):\n",
    "    return list(map(f_classify, x))"
   ]
  },
  {
   "cell_type": "code",
   "execution_count": 26,
   "id": "90395b07-29ba-4780-9a89-f6c292d9ce7b",
   "metadata": {},
   "outputs": [
    {
     "name": "stdout",
     "output_type": "stream",
     "text": [
      "[0, 1, 0, 0, 0, 1, 1, 1, 0, 0, 1, 1, 1, 0, 1, 0, 0, 1, 1, 0, 1, 0, 1, 1, 1, 0, 1, 0, 0, 0, 0, 1, 1, 0, 1, 1, 0, 0, 0, 1, 1, 0, 1, 1, 0, 0, 1, 0, 1, 0, 0, 0, 0, 0, 0, 1, 0, 0, 0, 1, 1, 0, 0, 0, 1, 0, 1, 0, 1, 1, 0, 0, 1, 0, 1, 0, 0, 1, 0, 1, 1, 1, 0, 0, 0, 0, 1, 1, 0, 0, 1, 1, 0, 1, 1, 1, 1, 0, 0, 1, 0, 0, 0, 1, 1, 1, 1, 0, 1, 0, 1, 1, 0, 0, 1, 1, 0, 0, 1, 1, 0, 1, 0, 1, 1, 1, 0, 1, 1, 0, 1, 1, 1, 1, 1, 1, 1, 0, 1, 0, 0, 1, 1, 0, 0, 1, 1, 0, 0, 0, 0, 1, 1, 0, 1, 0, 1, 1, 1, 1, 0, 1, 0, 0, 1, 1, 1, 0, 1, 0, 1, 0, 1, 0, 1, 1, 1, 1, 0, 0, 0, 0, 0, 1, 0, 0, 0, 1, 1, 1, 1, 1, 0, 1, 0, 1, 1, 0, 0, 0, 1, 0, 1, 0, 0, 1, 1, 1, 0, 0, 1, 1, 1, 0, 0, 0, 0, 0, 1, 1, 0, 1, 0, 0, 0, 1, 1, 0, 0, 1, 0, 0, 0, 0, 0, 0, 0, 1, 0, 1, 0, 1, 1, 0, 0, 0, 1, 1, 1, 0, 0, 1, 0, 1, 0, 0, 0, 1, 1, 1, 1, 1, 1, 0, 0, 0, 0, 1, 1, 1, 1, 0, 0, 0, 0, 1, 0, 0, 0, 0, 1, 1, 1, 1, 1, 1, 1, 1, 0, 1, 1, 1, 1, 0, 1, 0, 0, 0, 0, 0, 0, 1, 0, 0, 0, 1, 1, 1, 1, 0, 0, 1, 0, 1, 0, 1, 0, 0, 0, 0, 1, 1, 0, 1, 1, 1, 1, 1, 0, 1, 1, 1, 1, 0, 1, 1, 0, 0, 0, 1, 0, 1, 1, 1, 0, 1, 0, 1, 1, 1, 0, 0, 0, 0, 0, 1, 1, 1, 1, 0, 0, 1, 1, 0, 1, 0, 0, 1, 0, 0, 1, 1, 1, 0, 0, 0, 1, 1, 1, 0, 1, 1, 0, 0, 0, 1, 1, 0, 1, 0, 1, 1, 1, 0, 0, 0, 0, 1, 1, 1, 0, 0, 0, 0, 0, 0, 0, 0, 0, 1, 0, 0, 0, 0, 1, 1, 0, 0, 0, 0, 1, 1, 1, 1, 1, 1, 1, 0, 0, 1, 0, 1, 1, 0, 1, 0, 0, 1, 1, 0, 0, 1, 1, 1, 1, 1, 1, 0, 1, 0, 1, 0, 0, 0, 0, 0, 1, 1, 1, 1, 1, 0, 1, 0, 0, 0, 0, 0, 0, 0, 0, 0, 1, 1, 1, 1, 1, 0, 1, 1, 0, 1, 0, 1, 1, 0, 1, 1, 0, 0, 1, 1, 0, 0, 1, 1, 0, 0, 1, 1, 1, 1, 1, 1, 0, 0, 0, 1, 1, 0, 0, 0, 0, 1, 1, 1, 1, 0, 0, 1, 1, 1, 0, 0, 0, 1, 1, 1, 1, 0, 1, 0, 1, 0, 1, 0, 1, 0, 0, 1, 1, 0, 1, 0, 0, 1, 1, 1, 0, 0, 1, 0, 0, 0, 1, 1, 0, 0, 1, 1, 0, 0, 0, 0, 1, 0, 0, 1, 0, 1, 0, 1, 0, 1, 0, 1, 1, 0, 0, 0, 1, 0, 1, 1, 1, 0, 1, 0, 1, 0, 0, 1, 1, 0, 1, 1, 0, 1, 0, 0, 0, 0, 1, 1, 0, 0, 0, 0, 1, 1, 1, 1, 1, 1, 1, 1, 1, 1, 1, 1, 1, 1, 1, 0, 1, 0, 1, 0, 0, 0, 0, 0, 1, 0, 1, 0, 1, 0, 0, 0, 0, 0, 1, 0, 1, 0, 0, 1, 0, 1, 1, 1, 1, 0, 1, 1, 1, 1, 1, 0, 0, 1, 1, 1, 1, 1, 1, 0, 0, 0, 0, 1, 1, 1, 1, 0, 0, 0, 1, 0, 0, 1, 1, 1, 1, 0, 1, 0, 0, 0, 0, 1, 0, 0, 0, 1, 1, 1, 0, 0, 0, 0, 1, 0, 1, 1, 0, 1, 1, 0, 0]\n"
     ]
    }
   ],
   "source": [
    "# Run classifier on every item in the training set\n",
    "result = run(classify, train_input)\n",
    "\n",
    "print(result)"
   ]
  },
  {
   "cell_type": "code",
   "execution_count": 27,
   "id": "41dca9cb-6f54-4990-b544-1382e266297e",
   "metadata": {},
   "outputs": [
    {
     "name": "stdout",
     "output_type": "stream",
     "text": [
      "350 correct predictions out of 711. Accuracy 49 %\n"
     ]
    }
   ],
   "source": [
    "# Evaluate the classifier\n",
    "def evaluate(predictions, actual):\n",
    "    correct = list(filter(\n",
    "        lambda item: item[0] == item[1],\n",
    "        list(zip(predictions,actual))\n",
    "    ))\n",
    "    return '{} correct predictions out of {}. Accuracy {:.0f} %'.format(len(correct), len(actual), 100*len(correct)/len(actual))\n",
    "\n",
    "print(evaluate(run(classify, train_input), train_labels))\n"
   ]
  },
  {
   "cell_type": "code",
   "execution_count": 28,
   "id": "37ae427f-edea-473a-ba9a-c0d2974841ea",
   "metadata": {},
   "outputs": [
    {
     "name": "stdout",
     "output_type": "stream",
     "text": [
      "449 correct predictions out of 711. Accuracy 63 %\n"
     ]
    }
   ],
   "source": [
    "# Try with always predict a passengers died\n",
    "def predict_death(item):\n",
    "    return 0\n",
    "\n",
    "print(evaluate(run(predict_death, train_input), train_labels))\n"
   ]
  },
  {
   "cell_type": "code",
   "execution_count": null,
   "id": "cc30e7c2-0164-451e-8db9-94dc13d2b41b",
   "metadata": {},
   "outputs": [],
   "source": []
  },
  {
   "cell_type": "code",
   "execution_count": 30,
   "id": "50d2399d-c2ad-4c5d-bb2c-325ab90c6866",
   "metadata": {},
   "outputs": [
    {
     "data": {
      "text/plain": [
       "array([[449,   0],\n",
       "       [262,   0]])"
      ]
     },
     "execution_count": 30,
     "metadata": {},
     "output_type": "execute_result"
    }
   ],
   "source": [
    "# Confusion matrix of the predict death classifier\n",
    "from sklearn.metrics import confusion_matrix\n",
    "\n",
    "predictions = run(predict_death, train_input)\n",
    "confusion_matrix(train_labels, predictions)"
   ]
  },
  {
   "cell_type": "code",
   "execution_count": 37,
   "id": "8f369196-2bf3-493b-a7e6-cd72403f84d0",
   "metadata": {},
   "outputs": [
    {
     "name": "stdout",
     "output_type": "stream",
     "text": [
      "The precision score of the predict_death classifier is 0.0\n"
     ]
    },
    {
     "name": "stderr",
     "output_type": "stream",
     "text": [
      "/tmp/Python38/Python-3.8.5/QuantumML/lib/python3.12/site-packages/sklearn/metrics/_classification.py:1531: UndefinedMetricWarning: Precision is ill-defined and being set to 0.0 due to no predicted samples. Use `zero_division` parameter to control this behavior.\n",
      "  _warn_prf(average, modifier, f\"{metric.capitalize()} is\", len(result))\n"
     ]
    }
   ],
   "source": [
    "# The precision score, accuracy of the positive predictions\n",
    "from sklearn.metrics import precision_score\n",
    "print('The precision score of the predict_death classifier is {}'.format(precision_score(train_labels, predictions)))"
   ]
  },
  {
   "cell_type": "code",
   "execution_count": 39,
   "id": "6b0f83ff-6c23-4a60-b76b-e57e2a50c0c4",
   "metadata": {},
   "outputs": [
    {
     "name": "stdout",
     "output_type": "stream",
     "text": [
      "The recall score of the predict_death classifier is 0.0\n"
     ]
    }
   ],
   "source": [
    "# The recall score, accuracy of the actual positives\n",
    "from sklearn.metrics import recall_score\n",
    "print('The recall score of the predict_death classifier is {}'.format(recall_score(train_labels, predictions)))"
   ]
  },
  {
   "cell_type": "code",
   "execution_count": 43,
   "id": "37c3bef8-1569-4728-bcec-838359b9709e",
   "metadata": {},
   "outputs": [
    {
     "name": "stdout",
     "output_type": "stream",
     "text": [
      "The specificity score of the predict_death classifier is 1.00\n",
      "The npv score of the predict_death classifier is 0.63\n"
     ]
    }
   ],
   "source": [
    "# The specificyty(accuracy of the actual negatives) and the npv(accuracy of the negative predictions)\n",
    "def specificity(matrix):\n",
    "    \"\"\"The function specificity takes the confusion matrix as a parameter (line 1). It\n",
    "        divides the true negatives (matrix[0][0]) by the sum of the true negatives and'\n",
    "        the false positives (matrix[0][1]) (line 2).\"\"\"\n",
    "    return matrix[0][0]/(matrix[0][0]+matrix[0][1]) if (matrix[0][0]+matrix[0][1] > 0) else 0\n",
    "\n",
    "def npv(matrix):\n",
    "    \"\"\"The function npv takes the confusion matrix as a parameter (line 4) and di-\n",
    "        vides the true negatives by the sum of the true negatives and the false nega-\n",
    "        tives (matrix[1][0]).\"\"\"\n",
    "    return matrix[0][0]/(matrix[0][0]+matrix[1][0]) if (matrix[0][0]+matrix[1][0] > 0) else 0\n",
    "\n",
    "cm = confusion_matrix(train_labels, predictions)\n",
    "\n",
    "print('The specificity score of the predict_death classifier is {:.2f}'.format(specificity(cm)))\n",
    "print('The npv score of the predict_death classifier is {:.2f}'.format(npv(cm)))"
   ]
  },
  {
   "cell_type": "code",
   "execution_count": 45,
   "id": "12e63021-5164-4023-9780-fa8816b1904d",
   "metadata": {},
   "outputs": [
    {
     "name": "stdout",
     "output_type": "stream",
     "text": [
      "The precision score of the random classifier is 0.39\n",
      "The recall score of the random classifier is 0.55\n",
      "The specificity score of the random classifier is 0.50\n",
      "The npv core of the random classifier is 0.65\n"
     ]
    }
   ],
   "source": [
    "# Lets calculate precision, recall, specifity and npv for our random classifier\n",
    "random_predictions =run(classify, train_input)\n",
    "random_cm = confusion_matrix(train_labels, random_predictions)\n",
    "\n",
    "print('The precision score of the random classifier is {:.2f}'.format(precision_score(train_labels, random_predictions)))\n",
    "print('The recall score of the random classifier is {:.2f}'.format(recall_score(train_labels, random_predictions)))\n",
    "print('The specificity score of the random classifier is {:.2f}'.format(specificity(random_cm)))\n",
    "print('The npv core of the random classifier is {:.2f}'.format(npv(random_cm)))      "
   ]
  },
  {
   "cell_type": "code",
   "execution_count": 54,
   "id": "12485ca0-f3c9-447b-abcb-39c3d9b4d302",
   "metadata": {},
   "outputs": [],
   "source": [
    "# A generalized hypocrit classifier\n",
    "def hypocrite(passanger, weight):\n",
    "    \"\"\"he hypocrite classifier takes the passenger data and a weight value. The weight\n",
    "        is a number between −1 and 1. It denotes the classifier’s tendency to predict\n",
    "        death (negative values) or survival (positive values).\n",
    "        The formula weight*0.5+random.uniform(0, 1) generates numbers between −0.5\n",
    "        and 1.5. The min and max functions ensure the result to be between 0 and 1. The\n",
    "        round function returns either 0 (death) or 1 (survival).\n",
    "        Depending on the weight, the chances to return one or the other prediction\n",
    "        differs.\n",
    "    \"\"\"\n",
    "    return round(min(1, max(0,weight*0.5+random.uniform(0,1))))"
   ]
  },
  {
   "cell_type": "code",
   "execution_count": 56,
   "id": "2ada387e-ff4e-4aa2-8a38-0b4746d7ce1b",
   "metadata": {},
   "outputs": [
    {
     "name": "stdout",
     "output_type": "stream",
     "text": [
      "The precision score of the hypocrite classifier is 0.00\n",
      "The recall score of the hypocrite classifier is 0.00\n",
      "The specificity score of the hypocrite classifier is 1.00\n",
      "The npv score of the hypocrite classifier is 0.63\n"
     ]
    },
    {
     "name": "stderr",
     "output_type": "stream",
     "text": [
      "/tmp/Python38/Python-3.8.5/QuantumML/lib/python3.12/site-packages/sklearn/metrics/_classification.py:1531: UndefinedMetricWarning: Precision is ill-defined and being set to 0.0 due to no predicted samples. Use `zero_division` parameter to control this behavior.\n",
      "  _warn_prf(average, modifier, f\"{metric.capitalize()} is\", len(result))\n"
     ]
    }
   ],
   "source": [
    "# The scores of the hypocrite Classifier, tendency -1 (predicts death)\n",
    "w_predictions = run(lambda passenger: hypocrite(passenger, -1),\n",
    "train_input)\n",
    "w_cm = confusion_matrix(train_labels, w_predictions)\n",
    "\n",
    "print('The precision score of the hypocrite classifier is {:.2f}'\n",
    "    .format(precision_score(train_labels, w_predictions)))\n",
    "print('The recall score of the hypocrite classifier is {:.2f}'\n",
    "    .format(recall_score(train_labels, w_predictions)))\n",
    "print('The specificity score of the hypocrite classifier is {:.2f}'\n",
    "    .format(specificity(w_cm)))\n",
    "print('The npv score of the hypocrite classifier is {:.2f}'\n",
    "    .format(npv(w_cm)))"
   ]
  },
  {
   "cell_type": "code",
   "execution_count": 57,
   "id": "f5bf0115-2e32-4264-9f3f-6c111f3b0c3e",
   "metadata": {},
   "outputs": [
    {
     "name": "stdout",
     "output_type": "stream",
     "text": [
      "The precision score of the hypocrite classifier is 0.39\n",
      "The recall score of the hypocrite classifier is 0.55\n",
      "The specificity score of the hypocrite classifier is 0.50\n",
      "The npv score of the hypocrite classifier is 0.65\n"
     ]
    }
   ],
   "source": [
    "# The scores of the hypocrite Classifier, tendency 0 (random prediction)\n",
    "w_predictions = run(lambda passenger: hypocrite(passenger, 0),\n",
    "train_input)\n",
    "w_cm = confusion_matrix(train_labels, w_predictions)\n",
    "\n",
    "print('The precision score of the hypocrite classifier is {:.2f}'\n",
    "    .format(precision_score(train_labels, w_predictions)))\n",
    "print('The recall score of the hypocrite classifier is {:.2f}'\n",
    "    .format(recall_score(train_labels, w_predictions)))\n",
    "print('The specificity score of the hypocrite classifier is {:.2f}'\n",
    "    .format(specificity(w_cm)))\n",
    "print('The npv score of the hypocrite classifier is {:.2f}'\n",
    "    .format(npv(w_cm)))"
   ]
  },
  {
   "cell_type": "code",
   "execution_count": 59,
   "id": "c0e792d5-d90b-49c2-8bbe-3b9c67881b9e",
   "metadata": {},
   "outputs": [
    {
     "name": "stdout",
     "output_type": "stream",
     "text": [
      "The precision score of the hypocrite classifier is 0.37\n",
      "The recall score of the hypocrite classifier is 1.00\n",
      "The specificity score of the hypocrite classifier is 0.00\n",
      "The npv score of the hypocrite classifier is 0.00\n"
     ]
    }
   ],
   "source": [
    "# The scores of the hypocrite Classifier, tendency 1 (predicts survival)\n",
    "w_predictions = run(lambda passenger: hypocrite(passenger, 1),\n",
    "train_input)\n",
    "w_cm = confusion_matrix(train_labels, w_predictions)\n",
    "\n",
    "print('The precision score of the hypocrite classifier is {:.2f}'\n",
    "    .format(precision_score(train_labels, w_predictions)))\n",
    "print('The recall score of the hypocrite classifier is {:.2f}'\n",
    "    .format(recall_score(train_labels, w_predictions)))\n",
    "print('The specificity score of the hypocrite classifier is {:.2f}'\n",
    "    .format(specificity(w_cm)))\n",
    "print('The npv score of the hypocrite classifier is {:.2f}'\n",
    "    .format(npv(w_cm)))"
   ]
  },
  {
   "cell_type": "code",
   "execution_count": 62,
   "id": "589711d6-7695-4cb7-a04e-29c8ee87e2d8",
   "metadata": {},
   "outputs": [],
   "source": [
    "# Run the hypocrite classifiers\n",
    "import numpy as np\n",
    "\n",
    "# number of steps to consider between −1 and 1\n",
    "cnt_steps = 40\n",
    "\n",
    "# a list of the step numbers [0, 1, ..., 38, 39]\n",
    "steps = np.arange(0, cnt_steps, 1).tolist()\n",
    "\n",
    "# list of the weights at every step [−1, −0.95, ... 0.9, 0.95, 1.0]\n",
    "weights = list(map(\n",
    "    lambda weight: round(weight, 2),\n",
    "    np.arange(-1, 1+2/(cnt_steps-1), 2/(cnt_steps-1)).tolist()\n",
    "))\n",
    "\n",
    "# list of predictions at every step\n",
    "l_predictions = list(map(\n",
    "    lambda step: run(\n",
    "        lambda passenger: hypocrite(passenger, weights[step]),\n",
    "        train_input\n",
    "    ),\n",
    "    steps\n",
    "))\n",
    "\n",
    "# list of confusion matrices at every steo\n",
    "l_cm = list(map(\n",
    "    lambda step: confusion_matrix(train_labels, l_predictions[step]),\n",
    "    steps\n",
    "))"
   ]
  },
  {
   "cell_type": "code",
   "execution_count": 64,
   "id": "68163161-c096-4979-9653-72853608ec2b",
   "metadata": {},
   "outputs": [
    {
     "data": {
      "image/png": "[encoded data removed]",
      "text/plain": [
       "<Figure size 640x480 with 1 Axes>"
      ]
     },
     "metadata": {},
     "output_type": "display_data"
    }
   ],
   "source": [
    "# Plot the distribution of predictions\n",
    "import matplotlib.pyplot as plt\n",
    "import matplotlib\n",
    "\n",
    "# create a graph for the number of predicted deaths\n",
    "deaths, = plt.plot(\n",
    "    weights, # point at x−axis\n",
    "    list(map(lambda cur: l_cm[cur][0][0]+l_cm[cur][1][0], steps)),\n",
    "    'lightsalmon', # color of the graph\n",
    "    label='Predicted death'\n",
    ")\n",
    "\n",
    "# create a graph for the number of predicted survivals\n",
    "survivals, = plt.plot(\n",
    "    weights, # point at x−axis\n",
    "    list(map(lambda cur: l_cm[cur][0][1]+l_cm[cur][1][1], steps)),\n",
    "    'lightgreen', # color of the graph\n",
    "    label='Predicted survival'\n",
    ")\n",
    "\n",
    "plt.legend(handles=[deaths, survivals],loc='upper center',\n",
    "    bbox_to_anchor=(0.5, -0.15), framealpha=0.0, ncol=2)\n",
    "plt.xlabel(\"Weight\")\n",
    "plt.ylabel(\"Number of predictions\")\n",
    "plt.show()"
   ]
  },
  {
   "cell_type": "code",
   "execution_count": null,
   "id": "82f9fa4c-7de8-43ce-aa6d-a9838eafe4ae",
   "metadata": {},
   "outputs": [],
   "source": []
  }
 ],
 "metadata": {
  "kernelspec": {
   "display_name": "Python 3 (ipykernel)",
   "language": "python",
   "name": "python3"
  },
  "language_info": {
   "codemirror_mode": {
    "name": "ipython",
    "version": 3
   },
   "file_extension": ".py",
   "mimetype": "text/x-python",
   "name": "python",
   "nbconvert_exporter": "python",
   "pygments_lexer": "ipython3",
   "version": "3.12.3"
  }
 },
 "nbformat": 4,
 "nbformat_minor": 5
}
