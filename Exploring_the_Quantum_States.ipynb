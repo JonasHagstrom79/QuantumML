{
 "cells": [
  {
   "cell_type": "code",
   "execution_count": 1,
   "id": "aab53051-170f-42ab-83f6-c4571bf5df87",
   "metadata": {},
   "outputs": [
    {
     "name": "stdout",
     "output_type": "stream",
     "text": [
      "Qiskit version: 1.1.2\n"
     ]
    }
   ],
   "source": [
    "import qiskit\n",
    "print(f\"Qiskit version: {qiskit.__version__}\")"
   ]
  },
  {
   "cell_type": "code",
   "execution_count": 12,
   "id": "718b5db4-3de5-4adc-a68c-bc711e8491f6",
   "metadata": {},
   "outputs": [
    {
     "data": {
      "text/plain": [
       "<qiskit.circuit.instructionset.InstructionSet at 0x7a6e89d9bd30>"
      ]
     },
     "execution_count": 12,
     "metadata": {},
     "output_type": "execute_result"
    }
   ],
   "source": [
    "from qiskit import QuantumCircuit\n",
    "\n",
    "# Create a quantum circuit with one qbit\n",
    "qc = QuantumCircuit(1)\n",
    "\n",
    "qc.measure_all()\n",
    "\n",
    "# Define initial_state as |1> = [0,1], and in plain English, it is a qubit resulting in the value 1 when observed.\n",
    "initial_state = [0,1]\n",
    "\n",
    "# Apply initialization operation on the qbit at position 0\n",
    "qc.initialize(initial_state, 0)"
   ]
  },
  {
   "cell_type": "code",
   "execution_count": 18,
   "id": "52d252a7-f8a6-4204-b42c-bf72bb5500e1",
   "metadata": {},
   "outputs": [],
   "source": [
    "# Prepare the simulation backend\n",
    "from qiskit import QuantumCircuit, transpile\n",
    "from qiskit_aer import AerSimulator\n",
    "from qiskit.quantum_info import Statevector\n",
    "\n",
    "# Create an AerSimulator with statevector\n",
    "backend = AerSimulator()\n",
    "#backend = Aer.get_backend('statevector_simulator')\n",
    "\n",
    "# Transpile the circuit for backend\n",
    "qc_transpiled = transpile(qc, backend)\n",
    "\n",
    "# Run the circuit\n",
    "job = backend.run(qc_transpiled, shots=1000, memory=True, save_statevector=True)\n",
    "result = job.result()\n"
   ]
  },
  {
   "cell_type": "code",
   "execution_count": 19,
   "id": "1fe56434-bc87-45a4-abc7-d936cfc96c04",
   "metadata": {},
   "outputs": [
    {
     "data": {
      "image/png": "[encoded data removed]",
      "text/plain": [
       "<Figure size 640x480 with 1 Axes>"
      ]
     },
     "metadata": {},
     "output_type": "display_data"
    }
   ],
   "source": [
    "# The measured qbit\n",
    "%matplotlib inline\n",
    "from qiskit.visualization import plot_histogram\n",
    "import matplotlib.pyplot as plt\n",
    "\n",
    "# Get the probability distribution\n",
    "counts = result.get_counts()\n",
    "\n",
    "# Show the histogram\n",
    "plot_histogram(counts)\n",
    "plt.show()"
   ]
  },
  {
   "cell_type": "code",
   "execution_count": 20,
   "id": "9d044b06-eaa9-4d53-bd1a-df95e5b705b5",
   "metadata": {},
   "outputs": [
    {
     "ename": "QiskitError",
     "evalue": "'Sum of amplitudes-squared is not 1, but 1.4142135623730951.'",
     "output_type": "error",
     "traceback": [
      "\u001b[0;31m---------------------------------------------------------------------------\u001b[0m",
      "\u001b[0;31mQiskitError\u001b[0m                               Traceback (most recent call last)",
      "Cell \u001b[0;32mIn[20], line 10\u001b[0m\n\u001b[1;32m      7\u001b[0m qc \u001b[38;5;241m=\u001b[39m QuantumCircuit(\u001b[38;5;241m1\u001b[39m)\n\u001b[1;32m      9\u001b[0m \u001b[38;5;66;03m# Initialise the 0th qbit in the state 'initial_state'\u001b[39;00m\n\u001b[0;32m---> 10\u001b[0m \u001b[43mqc\u001b[49m\u001b[38;5;241;43m.\u001b[39;49m\u001b[43minitialize\u001b[49m\u001b[43m(\u001b[49m\u001b[43minitial_state\u001b[49m\u001b[43m,\u001b[49m\u001b[38;5;241;43m0\u001b[39;49m\u001b[43m)\u001b[49m\n\u001b[1;32m     12\u001b[0m \u001b[38;5;66;03m# Create an AerSimulator with statevector\u001b[39;00m\n\u001b[1;32m     13\u001b[0m backend \u001b[38;5;241m=\u001b[39m AerSimulator()\n",
      "File \u001b[0;32m/tmp/Python38/Python-3.8.5/QuantumML/lib/python3.12/site-packages/qiskit/circuit/quantumcircuit.py:5798\u001b[0m, in \u001b[0;36mQuantumCircuit.initialize\u001b[0;34m(self, params, qubits, normalize)\u001b[0m\n\u001b[1;32m   5794\u001b[0m     qubits \u001b[38;5;241m=\u001b[39m [qubits]\n\u001b[1;32m   5796\u001b[0m num_qubits \u001b[38;5;241m=\u001b[39m \u001b[38;5;28mlen\u001b[39m(qubits) \u001b[38;5;28;01mif\u001b[39;00m \u001b[38;5;28misinstance\u001b[39m(params, \u001b[38;5;28mint\u001b[39m) \u001b[38;5;28;01melse\u001b[39;00m \u001b[38;5;28;01mNone\u001b[39;00m\n\u001b[0;32m-> 5798\u001b[0m \u001b[38;5;28;01mreturn\u001b[39;00m \u001b[38;5;28mself\u001b[39m\u001b[38;5;241m.\u001b[39mappend(\u001b[43mInitialize\u001b[49m\u001b[43m(\u001b[49m\u001b[43mparams\u001b[49m\u001b[43m,\u001b[49m\u001b[43m \u001b[49m\u001b[43mnum_qubits\u001b[49m\u001b[43m,\u001b[49m\u001b[43m \u001b[49m\u001b[43mnormalize\u001b[49m\u001b[43m)\u001b[49m, qubits, copy\u001b[38;5;241m=\u001b[39m\u001b[38;5;28;01mFalse\u001b[39;00m)\n",
      "File \u001b[0;32m/tmp/Python38/Python-3.8.5/QuantumML/lib/python3.12/site-packages/qiskit/circuit/library/data_preparation/initializer.py:66\u001b[0m, in \u001b[0;36mInitialize.__init__\u001b[0;34m(self, params, num_qubits, normalize)\u001b[0m\n\u001b[1;32m     41\u001b[0m \u001b[38;5;28;01mdef\u001b[39;00m \u001b[38;5;21m__init__\u001b[39m(\n\u001b[1;32m     42\u001b[0m     \u001b[38;5;28mself\u001b[39m,\n\u001b[1;32m     43\u001b[0m     params: Statevector \u001b[38;5;241m|\u001b[39m Sequence[\u001b[38;5;28mcomplex\u001b[39m] \u001b[38;5;241m|\u001b[39m \u001b[38;5;28mstr\u001b[39m \u001b[38;5;241m|\u001b[39m \u001b[38;5;28mint\u001b[39m,\n\u001b[1;32m     44\u001b[0m     num_qubits: \u001b[38;5;28mint\u001b[39m \u001b[38;5;241m|\u001b[39m \u001b[38;5;28;01mNone\u001b[39;00m \u001b[38;5;241m=\u001b[39m \u001b[38;5;28;01mNone\u001b[39;00m,\n\u001b[1;32m     45\u001b[0m     normalize: \u001b[38;5;28mbool\u001b[39m \u001b[38;5;241m=\u001b[39m \u001b[38;5;28;01mFalse\u001b[39;00m,\n\u001b[1;32m     46\u001b[0m ) \u001b[38;5;241m-\u001b[39m\u001b[38;5;241m>\u001b[39m \u001b[38;5;28;01mNone\u001b[39;00m:\n\u001b[1;32m     47\u001b[0m \u001b[38;5;250m    \u001b[39m\u001b[38;5;124mr\u001b[39m\u001b[38;5;124;03m\"\"\"\u001b[39;00m\n\u001b[1;32m     48\u001b[0m \u001b[38;5;124;03m    Args:\u001b[39;00m\n\u001b[1;32m     49\u001b[0m \u001b[38;5;124;03m        params: The state to initialize to, can be either of the following.\u001b[39;00m\n\u001b[0;32m   (...)\u001b[0m\n\u001b[1;32m     64\u001b[0m \u001b[38;5;124;03m        normalize: Whether to normalize an input array to a unit vector.\u001b[39;00m\n\u001b[1;32m     65\u001b[0m \u001b[38;5;124;03m    \"\"\"\u001b[39;00m\n\u001b[0;32m---> 66\u001b[0m     \u001b[38;5;28mself\u001b[39m\u001b[38;5;241m.\u001b[39m_stateprep \u001b[38;5;241m=\u001b[39m \u001b[43mStatePreparation\u001b[49m\u001b[43m(\u001b[49m\u001b[43mparams\u001b[49m\u001b[43m,\u001b[49m\u001b[43m \u001b[49m\u001b[43mnum_qubits\u001b[49m\u001b[43m,\u001b[49m\u001b[43m \u001b[49m\u001b[43mnormalize\u001b[49m\u001b[38;5;241;43m=\u001b[39;49m\u001b[43mnormalize\u001b[49m\u001b[43m)\u001b[49m\n\u001b[1;32m     68\u001b[0m     \u001b[38;5;28msuper\u001b[39m()\u001b[38;5;241m.\u001b[39m\u001b[38;5;21m__init__\u001b[39m(\u001b[38;5;124m\"\u001b[39m\u001b[38;5;124minitialize\u001b[39m\u001b[38;5;124m\"\u001b[39m, \u001b[38;5;28mself\u001b[39m\u001b[38;5;241m.\u001b[39m_stateprep\u001b[38;5;241m.\u001b[39mnum_qubits, \u001b[38;5;241m0\u001b[39m, \u001b[38;5;28mself\u001b[39m\u001b[38;5;241m.\u001b[39m_stateprep\u001b[38;5;241m.\u001b[39mparams)\n",
      "File \u001b[0;32m/tmp/Python38/Python-3.8.5/QuantumML/lib/python3.12/site-packages/qiskit/circuit/library/data_preparation/state_preparation.py:109\u001b[0m, in \u001b[0;36mStatePreparation.__init__\u001b[0;34m(self, params, num_qubits, inverse, label, normalize)\u001b[0m\n\u001b[1;32m    107\u001b[0m         params \u001b[38;5;241m=\u001b[39m np\u001b[38;5;241m.\u001b[39marray(params, dtype\u001b[38;5;241m=\u001b[39mnp\u001b[38;5;241m.\u001b[39mcomplex128) \u001b[38;5;241m/\u001b[39m norm\n\u001b[1;32m    108\u001b[0m     \u001b[38;5;28;01melif\u001b[39;00m \u001b[38;5;129;01mnot\u001b[39;00m math\u001b[38;5;241m.\u001b[39misclose(norm, \u001b[38;5;241m1.0\u001b[39m, abs_tol\u001b[38;5;241m=\u001b[39m_EPS):\n\u001b[0;32m--> 109\u001b[0m         \u001b[38;5;28;01mraise\u001b[39;00m QiskitError(\u001b[38;5;124mf\u001b[39m\u001b[38;5;124m\"\u001b[39m\u001b[38;5;124mSum of amplitudes-squared is not 1, but \u001b[39m\u001b[38;5;132;01m{\u001b[39;00mnorm\u001b[38;5;132;01m}\u001b[39;00m\u001b[38;5;124m.\u001b[39m\u001b[38;5;124m\"\u001b[39m)\n\u001b[1;32m    111\u001b[0m num_qubits \u001b[38;5;241m=\u001b[39m \u001b[38;5;28mself\u001b[39m\u001b[38;5;241m.\u001b[39m_get_num_qubits(num_qubits, params)\n\u001b[1;32m    112\u001b[0m params \u001b[38;5;241m=\u001b[39m [params] \u001b[38;5;28;01mif\u001b[39;00m \u001b[38;5;28misinstance\u001b[39m(params, \u001b[38;5;28mint\u001b[39m) \u001b[38;5;28;01melse\u001b[39;00m params\n",
      "\u001b[0;31mQiskitError\u001b[0m: 'Sum of amplitudes-squared is not 1, but 1.4142135623730951.'"
     ]
    }
   ],
   "source": [
    "# First attempt to superpose two states\n",
    "\n",
    "# Define state |psi>\n",
    "initial_state = [1, 1]\n",
    "\n",
    "# Redefine the quantum circuit\n",
    "qc = QuantumCircuit(1)\n",
    "\n",
    "# Initialise the 0th qbit in the state 'initial_state'\n",
    "qc.initialize(initial_state,0)\n",
    "\n",
    "# Create an AerSimulator with statevector\n",
    "backend = AerSimulator()\n",
    "\n",
    "# Transpile the circuit for backend\n",
    "qc_transpiled = transpile(qc, backend)\n",
    "\n",
    "# Run the circuit\n",
    "job = backend.run(qc_transpiled, shots=1000, memory=True, save_statevector=True)\n",
    "result = job.result()\n",
    "\n",
    "# Plot the results\n",
    "counts = result.get_counts()\n",
    "\n",
    "# Show the histogram\n",
    "plot_histogram(counts)\n",
    "plt.show()"
   ]
  },
  {
   "cell_type": "code",
   "execution_count": null,
   "id": "f359310b-4576-4973-b0b5-d0bb8f42fc45",
   "metadata": {},
   "outputs": [],
   "source": [
    "# It didn’t quite work. It tells us: 'Sum of amplitudes-squared is not 1, but 1.4142135623730951.'"
   ]
  },
  {
   "cell_type": "code",
   "execution_count": null,
   "id": "402a1ae0-f2b6-40a4-b499-b3af3801a53b",
   "metadata": {},
   "outputs": [],
   "source": [
    "# The amplitudes are the values in our array. They are proportional to proba-\n",
    "# bilities. And all the probabilities should add up to exactly 1 (100%). We need\n",
    "# to add weights to the quantum states |0⟩ and |1⟩. Let’s call them α and β .\n",
    "# We weight |0⟩ with α and |1⟩ with β . Like this:\n",
    "# |ψ⟩ =α|0⟩ +β |1⟩ = [1 ·α + 0 ·β]   [α] \n",
    "#                    [0 ·α + 1 ·β] = [β]\n",
    "# Amplitudes are proportional to probabilities. We need to normalize them so\n",
    "# that α2 +β 2 = 1. If both states |0⟩ and |1⟩ should have the same weight, then α = β .\n",
    "# And therefore, we can solve our equation to α:\n",
    "# α2 + α2 = 1 ⇔ 2 · α2 = 1 ⇔ α2 = 1/2 ⇔ α = 1/√2\n",
    "# And we insert the value for both α andβ (both are equal). Let’s try this quan-\n",
    "# tum state:\n",
    "# |ψ⟩ = 1/√2|0⟩ + 1/√2|1⟩ = [1/√2]\n",
    "#                           [1/√2]\n",
    "# The corresponding array in Python is: [1/sqrt(2), 1/sqrt(2)]. Don’t forget to\n",
    "# import sqrt."
   ]
  },
  {
   "cell_type": "code",
   "execution_count": 23,
   "id": "1f0ceaa0-a265-4b98-adc1-dd8515068f9e",
   "metadata": {},
   "outputs": [
    {
     "data": {
      "image/png": "[encoded data removed]",
      "text/plain": [
       "<Figure size 640x480 with 1 Axes>"
      ]
     },
     "metadata": {},
     "output_type": "display_data"
    },
    {
     "name": "stdout",
     "output_type": "stream",
     "text": [
      "Counts:  {'1': 468, '0': 532}\n"
     ]
    }
   ],
   "source": [
    "# Weighted initial state\n",
    "\n",
    "# Imports\n",
    "from math import sqrt\n",
    "\n",
    "# Define state |psi>\n",
    "initial_state = [1/sqrt(2), 1/sqrt(2)]\n",
    "\n",
    "# Redefine the quantum circuit\n",
    "qc = QuantumCircuit(1,1) # 1 qubit, 1 classical bit\n",
    "\n",
    "# Initialize the 0th qbit in the state 'initial_state'\n",
    "qc.initialize(initial_state, 0)\n",
    "\n",
    "# Add measurement\n",
    "qc.measure(0,0)\n",
    "\n",
    "# Create an AerSimulator\n",
    "backend = AerSimulator()\n",
    "\n",
    "# Transpile the circuit for backend\n",
    "qc_transpiled = transpile(qc, backend)\n",
    "\n",
    "# Run the circuit\n",
    "job = backend.run(qc_transpiled, shots=1000)\n",
    "result = job.result()\n",
    "\n",
    "# Get the counts\n",
    "counts = result.get_counts()\n",
    "\n",
    "# Plot the histogram\n",
    "plot_histogram(counts)\n",
    "plt.show()\n",
    "\n",
    "# Print the counts\n",
    "print(\"Counts: \", counts)"
   ]
  },
  {
   "cell_type": "code",
   "execution_count": 25,
   "id": "5a0521e4-9fa3-4c3a-9d40-6e2f00178dbd",
   "metadata": {},
   "outputs": [
    {
     "data": {
      "image/png": "[encoded data removed]",
      "text/plain": [
       "<Figure size 640x480 with 1 Axes>"
      ]
     },
     "metadata": {},
     "output_type": "display_data"
    },
    {
     "name": "stdout",
     "output_type": "stream",
     "text": [
      "Counts:  {'0': 245, '1': 755}\n"
     ]
    }
   ],
   "source": [
    "# What is the state of a qbit that has 25% chance of resulting in 0 and 75% of resulting in 1?\n",
    "# The vector for above is: [  1/2 ] \n",
    "#                          [ √3/2 ]\n",
    "# in pyhon above vector is represented by the array [1/2, sqrt(3)/2]\n",
    "\n",
    "# Define state |psi>\n",
    "initial_state = [1/2, sqrt(3)/2]\n",
    "\n",
    "# Redefine the quantum circuit\n",
    "qc = QuantumCircuit(1,1) # 1 qubit,\n",
    "\n",
    "# Initialize the 0th qbit in the state 'initial_state'\n",
    "qc.initialize(initial_state, 0)\n",
    "\n",
    "# Add measurement\n",
    "qc.measure(0,0)\n",
    "\n",
    "# Create an AerSimulator\n",
    "backend = AerSimulator()\n",
    "\n",
    "# Transpile the circuit for backend\n",
    "qc_transpiled = transpile(qc, backend)\n",
    "\n",
    "# Run the circuit\n",
    "job = backend.run(qc_transpiled, shots=1000)\n",
    "result = job.result()\n",
    "\n",
    "# Get the counts\n",
    "counts = result.get_counts()\n",
    "\n",
    "# Plot the histogram\n",
    "plot_histogram(counts)\n",
    "plt.show()\n",
    "\n",
    "# Print the counts\n",
    "print(\"Counts: \", counts)"
   ]
  },
  {
   "cell_type": "code",
   "execution_count": 30,
   "id": "219a09b5-ea16-445c-bb38-84b60f1db80e",
   "metadata": {},
   "outputs": [
    {
     "name": "stdout",
     "output_type": "stream",
     "text": [
      "Counts:  {'1': 357, '0': 643}\n"
     ]
    },
    {
     "data": {
      "image/png": "[encoded data removed]",
      "text/plain": [
       "<Figure size 640x480 with 1 Axes>"
      ]
     },
     "metadata": {},
     "output_type": "display_data"
    }
   ],
   "source": [
    "# Using theta to specify the quantum state vector\n",
    "\n",
    "from math import cos, pi, sin\n",
    "\n",
    "def get_state (theta):\n",
    "    \"\"\"returns a valid state vector\"\"\"\n",
    "    return [cos(theta/2), sin(theta/2)]\n",
    "\n",
    "# play with the values for theta to get the feeling\n",
    "theta = 5#-pi/2\n",
    "\n",
    "# create, initilize, and execute the quantum circuit\n",
    "qc = QuantumCircuit(1,1)\n",
    "qc.initialize(get_state(theta), 0)\n",
    "qc.measure(0,0)\n",
    "backend = AerSimulator()\n",
    "qc_transpiled = transpile(qc, backend)\n",
    "job = backend.run(qc_transpiled, shots=1000)\n",
    "result = job.result()\n",
    "counts = result.get_counts()\n",
    "\n",
    "# Print the counts\n",
    "print(\"Counts: \", counts)\n",
    "\n",
    "# Show the histogram\n",
    "plot_histogram(counts)\n",
    "plt.show()"
   ]
  },
  {
   "cell_type": "code",
   "execution_count": null,
   "id": "1119998e-e61f-4dc4-b21f-f238c5e94e80",
   "metadata": {},
   "outputs": [],
   "source": []
  }
 ],
 "metadata": {
  "kernelspec": {
   "display_name": "Python 3 (ipykernel)",
   "language": "python",
   "name": "python3"
  },
  "language_info": {
   "codemirror_mode": {
    "name": "ipython",
    "version": 3
   },
   "file_extension": ".py",
   "mimetype": "text/x-python",
   "name": "python",
   "nbconvert_exporter": "python",
   "pygments_lexer": "ipython3",
   "version": "3.12.3"
  }
 },
 "nbformat": 4,
 "nbformat_minor": 5
}
